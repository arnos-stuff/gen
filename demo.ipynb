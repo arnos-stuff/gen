{
 "cells": [
  {
   "cell_type": "code",
   "execution_count": 1,
   "metadata": {},
   "outputs": [],
   "source": [
    "from blockMatSymbol import blockMatSymbolAsSqBlocks, matrixSymbolAsRowVectors, matrixSymbolAsColVectors"
   ]
  },
  {
   "cell_type": "code",
   "execution_count": 2,
   "metadata": {},
   "outputs": [],
   "source": [
    "import sympy as sp"
   ]
  },
  {
   "cell_type": "code",
   "execution_count": 3,
   "metadata": {},
   "outputs": [],
   "source": [
    "n,m = sp.symbols('n, m', integer=True, positive=True) # matrix dimensions"
   ]
  },
  {
   "cell_type": "code",
   "execution_count": 8,
   "metadata": {},
   "outputs": [],
   "source": [
    "cA = matrixSymbolAsColVectors('A', n, m)"
   ]
  },
  {
   "cell_type": "code",
   "execution_count": 9,
   "metadata": {},
   "outputs": [
    {
     "data": {
      "text/latex": [
       "$\\displaystyle \\left[\\begin{matrix}a_{1} & \\dots & a_{j} & \\dots & a_{m}\\end{matrix}\\right]$"
      ],
      "text/plain": [
       "Matrix([[a_1, \\dots, a_j, \\dots, a_m]])"
      ]
     },
     "execution_count": 9,
     "metadata": {},
     "output_type": "execute_result"
    }
   ],
   "source": [
    "cA"
   ]
  },
  {
   "cell_type": "code",
   "execution_count": 10,
   "metadata": {},
   "outputs": [],
   "source": [
    "rA = matrixSymbolAsRowVectors('A', n, m)"
   ]
  },
  {
   "cell_type": "code",
   "execution_count": 11,
   "metadata": {},
   "outputs": [
    {
     "data": {
      "text/latex": [
       "$\\displaystyle \\left[\\begin{matrix}\\tilde{a}_1^T\\\\\\vdots\\\\\\tilde{a}_i^T\\\\\\vdots\\\\\\tilde{a}_n^T\\end{matrix}\\right]$"
      ],
      "text/plain": [
       "Matrix([\n",
       "[\\tilde{a}_1^T],\n",
       "[       \\vdots],\n",
       "[\\tilde{a}_i^T],\n",
       "[       \\vdots],\n",
       "[\\tilde{a}_n^T]])"
      ]
     },
     "execution_count": 11,
     "metadata": {},
     "output_type": "execute_result"
    }
   ],
   "source": [
    "rA"
   ]
  },
  {
   "cell_type": "code",
   "execution_count": 13,
   "metadata": {},
   "outputs": [],
   "source": [
    "assert rA.shape == cA.shape"
   ]
  },
  {
   "cell_type": "code",
   "execution_count": 14,
   "metadata": {},
   "outputs": [
    {
     "data": {
      "text/plain": [
       "(n, m)"
      ]
     },
     "execution_count": 14,
     "metadata": {},
     "output_type": "execute_result"
    }
   ],
   "source": [
    "rA.shape"
   ]
  },
  {
   "cell_type": "code",
   "execution_count": 15,
   "metadata": {},
   "outputs": [],
   "source": [
    "bmA = blockMatSymbolAsSqBlocks('A', subsize=n)"
   ]
  },
  {
   "cell_type": "code",
   "execution_count": 16,
   "metadata": {},
   "outputs": [
    {
     "data": {
      "text/latex": [
       "$\\displaystyle \\left[\\begin{matrix}A_{1,1} & \\dots & A_{1,j} & \\dots & A_{1,m}\\\\\\vdots & \\ddots & \\vdots & \\ddots & \\vdots\\\\A_{i,1} & \\dots & A_{i,j} & \\dots & A_{i,m}\\\\\\vdots & \\ddots & \\vdots & \\ddots & \\vdots\\\\A_{i,1} & \\dots & A_{i,j} & \\dots & A_{i,m}\\end{matrix}\\right]$"
      ],
      "text/plain": [
       "Matrix([\n",
       "[A_{1,1},  \\dots, A_{1,j},  \\dots, A_{1,m}],\n",
       "[ \\vdots, \\ddots,  \\vdots, \\ddots,  \\vdots],\n",
       "[A_{i,1},  \\dots, A_{i,j},  \\dots, A_{i,m}],\n",
       "[ \\vdots, \\ddots,  \\vdots, \\ddots,  \\vdots],\n",
       "[A_{i,1},  \\dots, A_{i,j},  \\dots, A_{i,m}]])"
      ]
     },
     "execution_count": 16,
     "metadata": {},
     "output_type": "execute_result"
    }
   ],
   "source": [
    "bmA"
   ]
  },
  {
   "cell_type": "code",
   "execution_count": 17,
   "metadata": {},
   "outputs": [],
   "source": [
    "bmA = blockMatSymbolAsSqBlocks('A', subsize=n, nodiag=True) # no diagonal blocks displayed"
   ]
  },
  {
   "cell_type": "code",
   "execution_count": 18,
   "metadata": {},
   "outputs": [
    {
     "data": {
      "text/latex": [
       "$\\displaystyle \\left[\\begin{matrix}A_{1,1} & \\dots & A_{1,j} & \\dots & A_{1,m}\\\\\\vdots &   & \\vdots &   & \\vdots\\\\A_{i,1} & \\dots & A_{i,j} & \\dots & A_{i,m}\\\\\\vdots &   & \\vdots &   & \\vdots\\\\A_{i,1} & \\dots & A_{i,j} & \\dots & A_{i,m}\\end{matrix}\\right]$"
      ],
      "text/plain": [
       "Matrix([\n",
       "[A_{1,1}, \\dots, A_{1,j}, \\dots, A_{1,m}],\n",
       "[ \\vdots,      ,  \\vdots,      ,  \\vdots],\n",
       "[A_{i,1}, \\dots, A_{i,j}, \\dots, A_{i,m}],\n",
       "[ \\vdots,      ,  \\vdots,      ,  \\vdots],\n",
       "[A_{i,1}, \\dots, A_{i,j}, \\dots, A_{i,m}]])"
      ]
     },
     "execution_count": 18,
     "metadata": {},
     "output_type": "execute_result"
    }
   ],
   "source": [
    "bmA"
   ]
  }
 ],
 "metadata": {
  "kernelspec": {
   "display_name": "Python 3.8.10 64-bit",
   "language": "python",
   "name": "python3"
  },
  "language_info": {
   "codemirror_mode": {
    "name": "ipython",
    "version": 3
   },
   "file_extension": ".py",
   "mimetype": "text/x-python",
   "name": "python",
   "nbconvert_exporter": "python",
   "pygments_lexer": "ipython3",
   "version": "3.8.10"
  },
  "orig_nbformat": 4,
  "vscode": {
   "interpreter": {
    "hash": "767d51c1340bd893661ea55ea3124f6de3c7a262a8b4abca0554b478b1e2ff90"
   }
  }
 },
 "nbformat": 4,
 "nbformat_minor": 2
}
